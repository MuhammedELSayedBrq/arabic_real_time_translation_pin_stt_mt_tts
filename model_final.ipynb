{
 "cells": [
  {
   "cell_type": "code",
   "execution_count": 1,
   "metadata": {},
   "outputs": [
    {
     "name": "stderr",
     "output_type": "stream",
     "text": [
      "c:\\Users\\Angry Nerd\\AppData\\Local\\Programs\\Python\\Python311\\Lib\\site-packages\\tqdm\\auto.py:21: TqdmWarning: IProgress not found. Please update jupyter and ipywidgets. See https://ipywidgets.readthedocs.io/en/stable/user_install.html\n",
      "  from .autonotebook import tqdm as notebook_tqdm\n",
      "Special tokens have been added in the vocabulary, make sure the associated word embeddings are fine-tuned or trained.\n"
     ]
    },
    {
     "name": "stdout",
     "output_type": "stream",
     "text": [
      "[' 1, 2, 3, test the artificial intelligence model, especially in the project of mobility.']\n"
     ]
    }
   ],
   "source": [
    "from transformers import WhisperProcessor, WhisperForConditionalGeneration\n",
    "import torchaudio , librosa\n",
    "import soundfile as sf\n",
    "\n",
    "def resample(old,resampled):\n",
    "    y, sr = librosa.load(old)\n",
    "    new_audio = librosa.resample(y, orig_sr=sr, target_sr=16000)\n",
    "    sf.write(resampled, new_audio, 16000)\n",
    "\n",
    "original = \"_assets/arabic_test.wav\"\n",
    "resampled = \"_assets/resampled_audio.wav\"\n",
    "resample(original,resampled)\n",
    "# load model and processor\n",
    "processor = WhisperProcessor.from_pretrained(\"openai/whisper-medium\")\n",
    "model = WhisperForConditionalGeneration.from_pretrained(\"openai/whisper-medium\")\n",
    "# model.config.forced_decoder_ids = None\n",
    "forced_decoder_ids = processor.get_decoder_prompt_ids(language=\"english\", task=\"translate\")\n",
    "\n",
    "audio, sample_rate = torchaudio.load(resampled)\n",
    "# Convert the audio tensor to a NumPy array (Whisper expects NumPy arrays)\n",
    "audio_np = audio.numpy()\n",
    "input_features = processor(audio_np, sampling_rate=sample_rate, return_tensors=\"pt\").input_features \n",
    "\n",
    "# generate token ids\n",
    "predicted_ids = model.generate(input_features, forced_decoder_ids=forced_decoder_ids)\n",
    "\n",
    "translation = processor.batch_decode(predicted_ids, skip_special_tokens=True)\n",
    "\n",
    "print(translation)"
   ]
  },
  {
   "cell_type": "code",
   "execution_count": 1,
   "metadata": {},
   "outputs": [
    {
     "data": {
      "text/plain": [
       "16000"
      ]
     },
     "execution_count": 1,
     "metadata": {},
     "output_type": "execute_result"
    }
   ],
   "source": [
    "import torchaudio\n",
    "wav_path = \"_assets/whisper_test.wav\"\n",
    "audio, sample_rate = torchaudio.load(wav_path)\n",
    "sample_rate"
   ]
  },
  {
   "cell_type": "code",
   "execution_count": null,
   "metadata": {},
   "outputs": [],
   "source": []
  }
 ],
 "metadata": {
  "kernelspec": {
   "display_name": "Python 3",
   "language": "python",
   "name": "python3"
  },
  "language_info": {
   "codemirror_mode": {
    "name": "ipython",
    "version": 3
   },
   "file_extension": ".py",
   "mimetype": "text/x-python",
   "name": "python",
   "nbconvert_exporter": "python",
   "pygments_lexer": "ipython3",
   "version": "3.11.4"
  }
 },
 "nbformat": 4,
 "nbformat_minor": 2
}
